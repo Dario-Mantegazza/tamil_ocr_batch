{
 "cells": [
  {
   "cell_type": "code",
   "execution_count": null,
   "metadata": {},
   "outputs": [],
   "source": [
    "from inference import OCR\n",
    "\n",
    "image_path = r\"test_images\\1.jpg\" # insert your own path here\n",
    "ocr = OCR()\n",
    "texts = ocr.predict(image_path)\n",
    "\n",
    "print(texts)"
   ]
  },
  {
   "cell_type": "code",
   "execution_count": null,
   "metadata": {},
   "outputs": [],
   "source": []
  }
 ],
 "metadata": {
  "language_info": {
   "name": "python"
  }
 },
 "nbformat": 4,
 "nbformat_minor": 2
}
