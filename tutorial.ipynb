{
 "cells": [
  {
   "cell_type": "markdown",
   "metadata": {},
   "source": [
    "# Text Recognition only"
   ]
  },
  {
   "cell_type": "code",
   "execution_count": null,
   "metadata": {},
   "outputs": [],
   "source": [
    "from ocr_tamil.ocr import OCR\n",
    "image_path = r\"test_images\\1.jpg\" # insert your own path here (step 2 file location)\n",
    "model_path = r\"parseq_tamil_v6.ckpt\" # add the full path of the model(step 2 file location)\n",
    "ocr = OCR(tamil_model_path=model_path)\n",
    "texts = ocr.predict(image_path)\n",
    "with open(\"output.txt\",\"w\",encoding=\"utf-8\") as f:\n",
    "    f.write(texts)"
   ]
  },
  {
   "cell_type": "markdown",
   "metadata": {},
   "source": [
    "# Text detection & recognition"
   ]
  },
  {
   "cell_type": "code",
   "execution_count": null,
   "metadata": {},
   "outputs": [],
   "source": [
    "from ocr_tamil.ocr import OCR\n",
    "image_path = r\"test_images\\0.jpg\" # insert your own path here\n",
    "model_path = r\"parseq_tamil_v6.ckpt\" # add the full path of the parseq model\n",
    "text_detect_model = \"craft_mlt_25k.pth\" # add the full path of the craft model\n",
    "ocr = OCR(detect=True,tamil_model_path=model_path,detect_model_path=text_detect_model)\n",
    "texts = ocr.predict(image_path)\n",
    "with open(\"output.txt\",\"w\",encoding=\"utf-8\") as f:\n",
    "    f.write(texts)\n"
   ]
  }
 ],
 "metadata": {
  "language_info": {
   "name": "python"
  }
 },
 "nbformat": 4,
 "nbformat_minor": 2
}
