{
 "cells": [
  {
   "cell_type": "markdown",
   "metadata": {},
   "source": [
    "# Text Recognition only"
   ]
  },
  {
   "cell_type": "code",
   "execution_count": null,
   "metadata": {},
   "outputs": [],
   "source": [
    "from tamil_ocr.tamil_ocr import OCR\n",
    "\n",
    "image_path = r\"test_images\\1.jpg\" # insert your own path here\n",
    "ocr = OCR()\n",
    "texts = ocr.predict(image_path)\n",
    "\n",
    "print(texts)"
   ]
  },
  {
   "cell_type": "markdown",
   "metadata": {},
   "source": [
    "# Text detection & recognition"
   ]
  },
  {
   "cell_type": "code",
   "execution_count": null,
   "metadata": {},
   "outputs": [],
   "source": [
    "from tamil_ocr.tamil_ocr import OCR\n",
    "\n",
    "image_path = r\"test_images\\0.jpg\" # insert your own path here\n",
    "ocr = OCR(detect=True)\n",
    "texts = ocr.predict(image_path)\n",
    "with open(\"output.txt\",\"w\",encoding=\"utf-8\") as f:\n",
    "    f.write(texts)"
   ]
  }
 ],
 "metadata": {
  "language_info": {
   "name": "python"
  }
 },
 "nbformat": 4,
 "nbformat_minor": 2
}
